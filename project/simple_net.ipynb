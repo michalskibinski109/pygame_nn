{
 "cells": [
  {
   "cell_type": "code",
   "execution_count": 20,
   "metadata": {},
   "outputs": [],
   "source": [
    "import tensorflow as tf\n",
    "from tensorflow.keras import Model\n",
    "from tensorflow.keras.layers import (\n",
    "    Dense,\n",
    "    Conv2D,\n",
    "    Flatten,\n",
    "    Input\n",
    ")"
   ]
  },
  {
   "cell_type": "code",
   "execution_count": 21,
   "metadata": {},
   "outputs": [],
   "source": [
    "# model with 2 inputs \n",
    "def build_model():\n",
    "    # Define model layers.\n",
    "    input_layer_1 = Input(name= 'input', shape=(32,32,3) )\n",
    "    input_layer_2 = Input(name= 'input2', shape=(32,32,3) )\n",
    "    first_dense = Dense(units=8,activation='relu', name='relu1')(input_layer_1)\n",
    "    second_dense = Dense(units=8,activation='relu', name='relu3')(first_dense)\n",
    "    concatenated = tf.keras.layers.concatenate([second_dense, input_layer_2])\n",
    "    y1_output = Dense(units=1, name='classification')(concatenated)\n",
    "    y2_output = Dense(units=4,name='regression',activation='relu')(second_dense)\n",
    "    model = Model(inputs=[input_layer_1, input_layer_2],outputs=[y1_output, y2_output])\n",
    "    return model"
   ]
  },
  {
   "cell_type": "code",
   "execution_count": 22,
   "metadata": {},
   "outputs": [
    {
     "name": "stdout",
     "output_type": "stream",
     "text": [
      "Model: \"model_2\"\n",
      "__________________________________________________________________________________________________\n",
      " Layer (type)                   Output Shape         Param #     Connected to                     \n",
      "==================================================================================================\n",
      " input (InputLayer)             [(None, 32, 32, 3)]  0           []                               \n",
      "                                                                                                  \n",
      " relu1 (Dense)                  (None, 32, 32, 8)    32          ['input[0][0]']                  \n",
      "                                                                                                  \n",
      " relu3 (Dense)                  (None, 32, 32, 8)    72          ['relu1[0][0]']                  \n",
      "                                                                                                  \n",
      " input2 (InputLayer)            [(None, 32, 32, 3)]  0           []                               \n",
      "                                                                                                  \n",
      " concatenate_5 (Concatenate)    (None, 32, 32, 11)   0           ['relu3[0][0]',                  \n",
      "                                                                  'input2[0][0]']                 \n",
      "                                                                                                  \n",
      " classification (Dense)         (None, 32, 32, 1)    12          ['concatenate_5[0][0]']          \n",
      "                                                                                                  \n",
      " regression (Dense)             (None, 32, 32, 4)    36          ['relu3[0][0]']                  \n",
      "                                                                                                  \n",
      "==================================================================================================\n",
      "Total params: 152\n",
      "Trainable params: 152\n",
      "Non-trainable params: 0\n",
      "__________________________________________________________________________________________________\n"
     ]
    }
   ],
   "source": [
    "model = build_model()\n",
    "model.compile(optimizer='adam', loss='mse', metrics=['accuracy'])\n",
    "model.summary()\n"
   ]
  },
  {
   "cell_type": "code",
   "execution_count": 23,
   "metadata": {},
   "outputs": [
    {
     "name": "stdout",
     "output_type": "stream",
     "text": [
      "You must install pydot (`pip install pydot`) and install graphviz (see instructions at https://graphviz.gitlab.io/download/) for plot_model to work.\n"
     ]
    }
   ],
   "source": [
    "# plot model\n",
    "tf.keras.utils.plot_model(model, to_file='model.png', show_shapes=True, show_layer_names=True)\n"
   ]
  }
 ],
 "metadata": {
  "kernelspec": {
   "display_name": "Python 3.9.13 64-bit",
   "language": "python",
   "name": "python3"
  },
  "language_info": {
   "codemirror_mode": {
    "name": "ipython",
    "version": 3
   },
   "file_extension": ".py",
   "mimetype": "text/x-python",
   "name": "python",
   "nbconvert_exporter": "python",
   "pygments_lexer": "ipython3",
   "version": "3.9.13"
  },
  "orig_nbformat": 4,
  "vscode": {
   "interpreter": {
    "hash": "36c4e15d3501f1b8c035377f86e47d79812678382be8e661e791815c966f0344"
   }
  }
 },
 "nbformat": 4,
 "nbformat_minor": 2
}
