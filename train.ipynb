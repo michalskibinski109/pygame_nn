{
 "cells": [
  {
   "cell_type": "code",
   "execution_count": 73,
   "metadata": {},
   "outputs": [],
   "source": [
    "from tensorflow.keras.models import Sequential\n",
    "from tensorflow.keras.layers import (\n",
    "    Dense,\n",
    "    Conv2D,\n",
    "    Flatten,\n",
    "    Input,\n",
    "    Dropout,\n",
    "    MaxPooling2D,\n",
    "    SimpleRNN,\n",
    "    MaxPool2D,\n",
    ")\n",
    "from tensorflow.keras import Model\n",
    "import pandas as pd\n",
    "import tensorflow as tf\n",
    "from tensorflow.keras.optimizers import Adam\n",
    "import numpy as np\n",
    "from pathlib import Path\n",
    "import matplotlib.pyplot as plt\n"
   ]
  },
  {
   "cell_type": "code",
   "execution_count": 74,
   "metadata": {},
   "outputs": [
    {
     "data": {
      "text/plain": [
       "((47, 16, 16, 1), (47, 5), (12, 16, 16, 1), (12, 5))"
      ]
     },
     "execution_count": 74,
     "metadata": {},
     "output_type": "execute_result"
    }
   ],
   "source": [
    "path = Path('data')\n",
    "X_train = np.load(path/'X_train.npy')\n",
    "y_train = np.load(path/'y_train.npy')\n",
    "X_test = np.load(path/'X_test.npy')\n",
    "y_test = np.load(path/'y_test.npy')\n",
    "X_train.shape, y_train.shape, X_test.shape, y_test.shape"
   ]
  },
  {
   "cell_type": "code",
   "execution_count": 75,
   "metadata": {},
   "outputs": [
    {
     "data": {
      "text/plain": [
       "array([1.        , 0.58984375, 0.01953125, 0.234375  , 0.46875   ])"
      ]
     },
     "execution_count": 75,
     "metadata": {},
     "output_type": "execute_result"
    }
   ],
   "source": [
    "y_test[0]"
   ]
  },
  {
   "cell_type": "code",
   "execution_count": 76,
   "metadata": {},
   "outputs": [
    {
     "data": {
      "text/plain": [
       "(12, 16, 16, 1)"
      ]
     },
     "execution_count": 76,
     "metadata": {},
     "output_type": "execute_result"
    }
   ],
   "source": [
    "EPOCHS = 1000\n",
    "BATCH_SIZE = 16\n",
    "IMG_SIZE = X_train.shape[1]\n",
    "X_test.shape"
   ]
  },
  {
   "cell_type": "code",
   "execution_count": 77,
   "metadata": {},
   "outputs": [],
   "source": [
    "def build_model():\n",
    "    # Define model layers.\n",
    "    input_layer = Input(name= 'input' ,shape=(IMG_SIZE, IMG_SIZE, 1))\n",
    "    first_dense = Conv2D(32, (3, 3), activation='relu', name='conv1')(input_layer)\n",
    "    flatten_layer = Flatten(name= 'flatten' )(first_dense)\n",
    "    second_dense = Dense(units=8,activation='relu', name='relu1')(flatten_layer)\n",
    "    y1_output = Dense(units=1, name='classification')(second_dense)\n",
    "    y2_output = Dense(units=4,name='regression')(second_dense)\n",
    "    model = Model(inputs=input_layer,outputs=[y1_output, y2_output])\n",
    "    return model\n",
    "\n"
   ]
  },
  {
   "cell_type": "code",
   "execution_count": 78,
   "metadata": {},
   "outputs": [],
   "source": [
    "def total_loss(y_true, y_pred):\n",
    "    y1_true, y2_true = y_true\n",
    "    y1_pred, y2_pred = y_pred\n",
    "    loss_class = tf.keras.losses.binary_crossentropy(y1_true, y1_pred)\n",
    "    loss_reg = tf.keras.losses.mean_squared_error(y2_true, y2_pred)\n",
    "    return loss_class + loss_reg*2"
   ]
  },
  {
   "cell_type": "code",
   "execution_count": 81,
   "metadata": {},
   "outputs": [
    {
     "name": "stdout",
     "output_type": "stream",
     "text": [
      "Model: \"model_9\"\n",
      "__________________________________________________________________________________________________\n",
      " Layer (type)                   Output Shape         Param #     Connected to                     \n",
      "==================================================================================================\n",
      " input (InputLayer)             [(None, 16, 16, 1)]  0           []                               \n",
      "                                                                                                  \n",
      " conv1 (Conv2D)                 (None, 14, 14, 32)   320         ['input[0][0]']                  \n",
      "                                                                                                  \n",
      " flatten (Flatten)              (None, 6272)         0           ['conv1[0][0]']                  \n",
      "                                                                                                  \n",
      " relu1 (Dense)                  (None, 8)            50184       ['flatten[0][0]']                \n",
      "                                                                                                  \n",
      " classification (Dense)         (None, 1)            9           ['relu1[0][0]']                  \n",
      "                                                                                                  \n",
      " regression (Dense)             (None, 4)            36          ['relu1[0][0]']                  \n",
      "                                                                                                  \n",
      "==================================================================================================\n",
      "Total params: 50,549\n",
      "Trainable params: 50,549\n",
      "Non-trainable params: 0\n",
      "__________________________________________________________________________________________________\n"
     ]
    }
   ],
   "source": [
    "model = build_model()\n",
    "optimizer = Adam(learning_rate=0.001)\n",
    "#model.compile(optimizer=optimizer, loss='mse', metrics=['mae'])\n",
    "model.compile(optimizer=optimizer, loss=total_loss, metrics=['mae'])\n",
    "model.summary()"
   ]
  },
  {
   "cell_type": "code",
   "execution_count": 82,
   "metadata": {},
   "outputs": [
    {
     "name": "stdout",
     "output_type": "stream",
     "text": [
      "Epoch 1/1000\n"
     ]
    },
    {
     "ename": "OperatorNotAllowedInGraphError",
     "evalue": "in user code:\n\n    File \"c:\\Users\\skibi\\AppData\\Local\\Programs\\Python\\Python39\\lib\\site-packages\\keras\\engine\\training.py\", line 1160, in train_function  *\n        return step_function(self, iterator)\n    File \"C:\\Users\\skibi\\AppData\\Local\\Temp\\ipykernel_18376\\1979475540.py\", line 2, in total_loss  *\n        y1_true, y2_true = y_true\n\n    OperatorNotAllowedInGraphError: Iterating over a symbolic `tf.Tensor` is not allowed: AutoGraph did convert this function. This might indicate you are trying to use an unsupported feature.\n",
     "output_type": "error",
     "traceback": [
      "\u001b[1;31m---------------------------------------------------------------------------\u001b[0m",
      "\u001b[1;31mOperatorNotAllowedInGraphError\u001b[0m            Traceback (most recent call last)",
      "Cell \u001b[1;32mIn [82], line 2\u001b[0m\n\u001b[0;32m      1\u001b[0m \u001b[39m#history = model.fit(X_train, y_train[:,1:], epochs=EPOCHS, batch_size=BATCH_SIZE)\u001b[39;00m\n\u001b[1;32m----> 2\u001b[0m history \u001b[39m=\u001b[39m model\u001b[39m.\u001b[39;49mfit(X_train, {\u001b[39m'\u001b[39;49m\u001b[39mclassification\u001b[39;49m\u001b[39m'\u001b[39;49m: y_train[:,\u001b[39m0\u001b[39;49m], \u001b[39m'\u001b[39;49m\u001b[39mregression\u001b[39;49m\u001b[39m'\u001b[39;49m: y_train[:,\u001b[39m1\u001b[39;49m:]}, epochs\u001b[39m=\u001b[39;49mEPOCHS, batch_size\u001b[39m=\u001b[39;49mBATCH_SIZE)\n",
      "File \u001b[1;32mc:\\Users\\skibi\\AppData\\Local\\Programs\\Python\\Python39\\lib\\site-packages\\keras\\utils\\traceback_utils.py:70\u001b[0m, in \u001b[0;36mfilter_traceback.<locals>.error_handler\u001b[1;34m(*args, **kwargs)\u001b[0m\n\u001b[0;32m     67\u001b[0m     filtered_tb \u001b[39m=\u001b[39m _process_traceback_frames(e\u001b[39m.\u001b[39m__traceback__)\n\u001b[0;32m     68\u001b[0m     \u001b[39m# To get the full stack trace, call:\u001b[39;00m\n\u001b[0;32m     69\u001b[0m     \u001b[39m# `tf.debugging.disable_traceback_filtering()`\u001b[39;00m\n\u001b[1;32m---> 70\u001b[0m     \u001b[39mraise\u001b[39;00m e\u001b[39m.\u001b[39mwith_traceback(filtered_tb) \u001b[39mfrom\u001b[39;00m \u001b[39mNone\u001b[39m\n\u001b[0;32m     71\u001b[0m \u001b[39mfinally\u001b[39;00m:\n\u001b[0;32m     72\u001b[0m     \u001b[39mdel\u001b[39;00m filtered_tb\n",
      "File \u001b[1;32mc:\\Users\\skibi\\AppData\\Local\\Programs\\Python\\Python39\\lib\\site-packages\\tensorflow\\python\\framework\\func_graph.py:1233\u001b[0m, in \u001b[0;36mfunc_graph_from_py_func.<locals>.autograph_handler\u001b[1;34m(*args, **kwargs)\u001b[0m\n\u001b[0;32m   1231\u001b[0m \u001b[39mexcept\u001b[39;00m \u001b[39mException\u001b[39;00m \u001b[39mas\u001b[39;00m e:  \u001b[39m# pylint:disable=broad-except\u001b[39;00m\n\u001b[0;32m   1232\u001b[0m   \u001b[39mif\u001b[39;00m \u001b[39mhasattr\u001b[39m(e, \u001b[39m\"\u001b[39m\u001b[39mag_error_metadata\u001b[39m\u001b[39m\"\u001b[39m):\n\u001b[1;32m-> 1233\u001b[0m     \u001b[39mraise\u001b[39;00m e\u001b[39m.\u001b[39mag_error_metadata\u001b[39m.\u001b[39mto_exception(e)\n\u001b[0;32m   1234\u001b[0m   \u001b[39melse\u001b[39;00m:\n\u001b[0;32m   1235\u001b[0m     \u001b[39mraise\u001b[39;00m\n",
      "\u001b[1;31mOperatorNotAllowedInGraphError\u001b[0m: in user code:\n\n    File \"c:\\Users\\skibi\\AppData\\Local\\Programs\\Python\\Python39\\lib\\site-packages\\keras\\engine\\training.py\", line 1160, in train_function  *\n        return step_function(self, iterator)\n    File \"C:\\Users\\skibi\\AppData\\Local\\Temp\\ipykernel_18376\\1979475540.py\", line 2, in total_loss  *\n        y1_true, y2_true = y_true\n\n    OperatorNotAllowedInGraphError: Iterating over a symbolic `tf.Tensor` is not allowed: AutoGraph did convert this function. This might indicate you are trying to use an unsupported feature.\n"
     ]
    }
   ],
   "source": [
    "#history = model.fit(X_train, y_train[:,1:], epochs=EPOCHS, batch_size=BATCH_SIZE)\n",
    "history = model.fit(X_train, {'classification': y_train[:,0], 'regression': y_train[:,1:]}, epochs=EPOCHS, batch_size=BATCH_SIZE)"
   ]
  },
  {
   "cell_type": "code",
   "execution_count": null,
   "metadata": {},
   "outputs": [
    {
     "data": {
      "text/plain": [
       "<AxesSubplot: >"
      ]
     },
     "execution_count": 64,
     "metadata": {},
     "output_type": "execute_result"
    },
    {
     "data": {
      "image/png": "[encoded data removed]",
      "text/plain": [
       "<Figure size 800x500 with 1 Axes>"
      ]
     },
     "metadata": {},
     "output_type": "display_data"
    }
   ],
   "source": [
    "pd.DataFrame(history.history).plot(figsize=(8, 5))\n"
   ]
  },
  {
   "cell_type": "code",
   "execution_count": null,
   "metadata": {},
   "outputs": [
    {
     "name": "stdout",
     "output_type": "stream",
     "text": [
      "1/1 [==============================] - 0s 26ms/step\n"
     ]
    },
    {
     "data": {
      "text/plain": [
       "array([0.46251035, 0.0875791 , 0.23227651, 0.45235413], dtype=float32)"
      ]
     },
     "execution_count": 71,
     "metadata": {},
     "output_type": "execute_result"
    }
   ],
   "source": [
    "model.predict(X_test[:1])[1][0]"
   ]
  },
  {
   "cell_type": "code",
   "execution_count": null,
   "metadata": {},
   "outputs": [
    {
     "name": "stdout",
     "output_type": "stream",
     "text": [
      "1/1 [==============================] - 0s 19ms/step\n",
      "[0.46251035 0.0875791  0.23227651 0.45235413]\n",
      "1/1 [==============================] - 0s 23ms/step\n",
      "[-8.5219741e-05  6.0707331e-05  6.1854720e-05  1.8328428e-05]\n",
      "1/1 [==============================] - 0s 20ms/step\n",
      "[0.43575004 0.41156515 0.23610412 0.48092833]\n",
      "1/1 [==============================] - 0s 24ms/step\n",
      "[0.40306434 0.07530847 0.23175906 0.4488592 ]\n",
      "1/1 [==============================] - 0s 23ms/step\n",
      "[0.15646043 0.23050699 0.23215228 0.45321772]\n",
      "1/1 [==============================] - 0s 21ms/step\n",
      "[-8.5219741e-05  6.0707331e-05  6.1854720e-05  1.8328428e-05]\n"
     ]
    },
    {
     "data": {
      "image/png": "[encoded data removed]",
      "text/plain": [
       "<Figure size 1000x800 with 6 Axes>"
      ]
     },
     "metadata": {},
     "output_type": "display_data"
    }
   ],
   "source": [
    "fig, ax = plt.subplots(2, 3, figsize=(10, 8))\n",
    "images = np.random.choice(X_test.shape[0], 6)\n",
    "\n",
    "for i in range(2):\n",
    "    for j in range(3):\n",
    "        index = np.random.randint(0, X_test.shape[0])\n",
    "        rect = model.predict(X_test[index:index+1])[1][0]\n",
    "        print(rect)\n",
    "        x, y, w, h = rect\n",
    "        ax[i, j].add_patch(\n",
    "            plt.Rectangle(\n",
    "                (x * IMG_SIZE, y * IMG_SIZE),\n",
    "                w * IMG_SIZE,\n",
    "                h * IMG_SIZE,\n",
    "                fill=False,\n",
    "                edgecolor=\"red\",\n",
    "                lw=3,\n",
    "            )\n",
    "            )\n",
    "        # draw true rect \n",
    "        \n",
    "        ax[i, j].imshow(X_test[index], cmap=\"gray\")\n",
    "plt.show()\n"
   ]
  }
 ],
 "metadata": {
  "kernelspec": {
   "display_name": "Python 3.9.13 64-bit",
   "language": "python",
   "name": "python3"
  },
  "language_info": {
   "codemirror_mode": {
    "name": "ipython",
    "version": 3
   },
   "file_extension": ".py",
   "mimetype": "text/x-python",
   "name": "python",
   "nbconvert_exporter": "python",
   "pygments_lexer": "ipython3",
   "version": "3.9.13"
  },
  "orig_nbformat": 4,
  "vscode": {
   "interpreter": {
    "hash": "36c4e15d3501f1b8c035377f86e47d79812678382be8e661e791815c966f0344"
   }
  }
 },
 "nbformat": 4,
 "nbformat_minor": 2
}
